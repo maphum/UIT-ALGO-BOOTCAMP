{
  "nbformat": 4,
  "nbformat_minor": 0,
  "metadata": {
    "colab": {
      "name": "10114.ipynb",
      "provenance": [],
      "authorship_tag": "ABX9TyOh/iSphr7ReaLcQ1yKjvPG",
      "include_colab_link": true
    },
    "kernelspec": {
      "name": "python3",
      "display_name": "Python 3"
    },
    "language_info": {
      "name": "python"
    }
  },
  "cells": [
    {
      "cell_type": "markdown",
      "metadata": {
        "id": "view-in-github",
        "colab_type": "text"
      },
      "source": [
        "<a href=\"https://colab.research.google.com/github/maphum/UIT-ALGO-BOOTCAMP/blob/main/10114.ipynb\" target=\"_parent\"><img src=\"https://colab.research.google.com/assets/colab-badge.svg\" alt=\"Open In Colab\"/></a>"
      ]
    },
    {
      "cell_type": "markdown",
      "metadata": {
        "id": "_5kRYua-0VGw"
      },
      "source": [
        "**10114**"
      ]
    },
    {
      "cell_type": "code",
      "metadata": {
        "id": "Yik6VO9-fexC"
      },
      "source": [
        "d = [None] * 105\n",
        "while True :\n",
        "  month, downPayment, loan, n= input().split()\n",
        "  month = int(month)\n",
        "  if month < 0:\n",
        "    break \n",
        "  n = int(n) \n",
        "  downPayment = float(downPayment)\n",
        "  loan = float(loan)\n",
        "  a = []\n",
        "  while True :\n",
        "    if n == 0 :\n",
        "      break\n",
        "    n = n - 1\n",
        "    m, p = input().split()\n",
        "    m = int(m) \n",
        "    p = float(p)\n",
        "    for i in range(m,101) :\n",
        "      d[i] = p\n",
        "  now = 0\n",
        "  monthlyPayment = loan / month\n",
        "  val = (loan + downPayment)* (1-d[0])\n",
        "  while (val < loan) :\n",
        "    now += 1\n",
        "    loan -= monthlyPayment\n",
        "    val = val * (1-d[now]) \n",
        "  if now > 1 :\n",
        "    print(now,\"months\")\n",
        "  elif now == 0 :\n",
        "    print(now,\"months\")\n",
        "  else :\n",
        "    print(now,\"month\")\n",
        "     \n",
        "\n"
      ],
      "execution_count": null,
      "outputs": []
    },
    {
      "cell_type": "markdown",
      "metadata": {
        "id": "FFuIZK_o04GA"
      },
      "source": [
        "**11172**"
      ]
    },
    {
      "cell_type": "code",
      "metadata": {
        "id": "9AxQAKqn0T76"
      },
      "source": [
        "t = int(input())\n",
        "for i in range(1,t+1) :\n",
        "  a, b = map(int, input().split())\n",
        "  if a < b :\n",
        "    print(\"<\") \n",
        "  elif a > b :\n",
        "    print(\">\")\n",
        "  else : \n",
        "    print(\"=\")"
      ],
      "execution_count": null,
      "outputs": []
    }
  ]
}