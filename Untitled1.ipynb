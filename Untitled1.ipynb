{
  "nbformat": 4,
  "nbformat_minor": 0,
  "metadata": {
    "colab": {
      "name": "Untitled1.ipynb",
      "provenance": [],
      "collapsed_sections": []
    },
    "kernelspec": {
      "name": "python3",
      "display_name": "Python 3"
    },
    "language_info": {
      "name": "python"
    }
  },
  "cells": [
    {
      "cell_type": "code",
      "metadata": {
        "id": "4fq7OLjEQLIt"
      },
      "source": [
        ""
      ],
      "execution_count": null,
      "outputs": []
    },
    {
      "cell_type": "markdown",
      "metadata": {
        "id": "7XY7JbDNQMxG"
      },
      "source": [
        "**UVa 11507**\n",
        "\n"
      ]
    },
    {
      "cell_type": "markdown",
      "metadata": {
        "id": "BZWWbYRQQjPY"
      },
      "source": [
        "Bender là một chú robot có nhiệm vụ bẻ cong một sợi dây kim loại có độ dài L (L là số nguyên >= 2). Bender tưởng tượng sợi dây như một đoạn thẳng được cố định 1 đầu tại tâm hệ tọa độ 3 chiều, và được đặt trên trục dương +x. Do đó ban đầu, một đầu của sợ dây có tọa độ cố định là (0, 0, 0) và đầu kia có tọa độ (L, 0, 0).\n",
        "\n",
        "Bender uốn cong sợi dây tại những điểm đặc biệt, bắt đầu tại điểm có tọa độ (L-1, 0, 0) và kết thúc tại điểm (1, 0, 0). Với mỗi bước i chạy từ L-1 đến 1, Bender có những lựa chọn sau: \n",
        "\n",
        "Không uốn cong tại điểm có tọa độ (i, 0, 0).\n",
        "\n",
        "Uốn cong tại điểm (i, 0, 0) một góc 90° theo hướng song song với các trục +y, -y, +z, -z.\n",
        "\n",
        "Cho một dãy các lệnh để nạp vào Bender. Hãy cho biết hướng đoạn thẳng cuối cùng của dây. \n",
        "\n",
        "\n",
        "\n",
        "\n",
        "\n"
      ]
    },
    {
      "cell_type": "markdown",
      "metadata": {
        "id": "BRY6Uc2aQyTI"
      },
      "source": [
        "**Input:**"
      ]
    },
    {
      "cell_type": "markdown",
      "metadata": {
        "id": "BljPxbbqSk-h"
      },
      "source": [
        "Dòng đầu tiên của mỗi test case cho biết độ dài dây kim loại L ( 2 <= L <= 10000). Gặp L = 0 thì dừng lại. \n",
        "\n",
        "Dòng thứ hai của mỗi test case chứa L - 1 câu lệnh điều khiển Bender làm việc. Mỗi câu lệnh thứ j-th sẽ đưa ra quyết định uốn cong tại điểm (L - j, 0, 0) như sau :\n",
        "\n",
        "\"No\" thì sợi dây không bị uốn tại (L - j, 0, 0).\n",
        "\n",
        "\"+y\", \"-y\", \"+z\", \"-z\" lần lược sẽ là các quyết định uốn cong sợi dây theo hướng +y, -y, +z, -z.\n",
        "\n"
      ]
    },
    {
      "cell_type": "markdown",
      "metadata": {
        "id": "VsJaYMHAQMNV"
      },
      "source": [
        "**Output:**\n",
        "\n",
        "Đưa ra hướng của đoạn dây cuối cùng, ví dụ như +x, -x, +y, -y, +z, -z\n"
      ]
    },
    {
      "cell_type": "markdown",
      "metadata": {
        "id": "E5XGvwd2WxCB"
      },
      "source": [
        "**Sample Input**\n",
        "\n",
        "3\n",
        "\n",
        "+z -z\n",
        "\n",
        "3\n",
        "\n",
        "+z +y\n",
        "\n",
        "2\n",
        "\n",
        "+z\n",
        "\n",
        "4\n",
        "\n",
        "+z +y +z\n",
        "\n",
        "5\n",
        "\n",
        "No +z No No\n",
        "\n",
        "0"
      ]
    },
    {
      "cell_type": "markdown",
      "metadata": {
        "id": "9dGET-wDWzmI"
      },
      "source": [
        "**Sample Output**\n",
        "\n",
        "+x\n",
        "\n",
        "+z\n",
        "\n",
        "+z\n",
        "\n",
        "-x\n",
        "\n",
        "+z"
      ]
    },
    {
      "cell_type": "markdown",
      "metadata": {
        "id": "gG-qumieXRIP"
      },
      "source": [
        "**Lời giải:**\n",
        "\n",
        "Bài toán đơn giản chỉ sử dụng if else, để ý một chút ta sẽ thấy rằng sẽ có 2 trường hợp như sau:\n",
        "\n",
        "Nếu đoạn dây cuối đang ở trục x, nếu đang là +x thì kết quả sẽ trùng với hướng của lệnh, nếu -x thì ngược kết quả là ngược với hướng của lệnh. \n",
        "\n",
        "Nếu đoạn dây cuối đang ở trục y hoặc z, thì nó chỉ bị thay đổi vị trí khi gặp lệnh uốn theo phương y hoặc phương z, và sẽ hướng sau khi bị uốn sẽ nằm ở trục x. Nếu lệnh cùng chiều với hướng thì kết quả sẽ ra -x, còn ngược chiều nhau thì kết quả sẽ là +x, ví dụ như đoạn dây đang hướng theo chiều +z, lệnh là -z thì sau đó đoạn dây sẽ hướng theo +x. "
      ]
    },
    {
      "cell_type": "markdown",
      "metadata": {
        "id": "ukDIVg6ailpB"
      },
      "source": [
        "**Code :**"
      ]
    },
    {
      "cell_type": "code",
      "metadata": {
        "id": "vLLHz_6Cqxe5"
      },
      "source": [
        "#include<bits/stdc++.h>\n",
        "using namespace std ;\n",
        "int main()\n",
        "{   string s ;\n",
        "    int L ;\n",
        "    while(1) {\n",
        "        cin >> L ;\n",
        "        if (L == 0) break ;\n",
        "        int dir = 1;\n",
        "        char c = 'x' ;\n",
        "        for (int i = 1; i < L ; i++) {\n",
        "            cin >> s ;\n",
        "            if(s[0] == 'N') continue ;\n",
        "            int temp ;\n",
        "            if(s[0] == '+') temp = 1;\n",
        "            else temp = -1;\n",
        "            if (c =='x') {\n",
        "                dir = dir* temp;\n",
        "                c = s[1] ;\n",
        "            }\n",
        "            else if (c == 'y' && s[1] == 'y') {\n",
        "                dir = - dir* temp;\n",
        "                c = 'x' ;\n",
        "            }\n",
        "            else if (c == 'z' && s[1] == 'z') {\n",
        "                dir = - dir* temp;\n",
        "                c = 'x' ;\n",
        "            }\n",
        "        }\n",
        "        if (dir == 1) cout << '+' << c << endl ;\n",
        "        else cout << '-' << c << endl ;\n",
        "    }\n",
        "}\n"
      ],
      "execution_count": null,
      "outputs": []
    },
    {
      "cell_type": "markdown",
      "metadata": {
        "id": "aFu1Y1PErHgs"
      },
      "source": [
        "**11799 - Horror Dash**\n",
        "\n",
        "Một chú hề bị đuổi bởi N học sinh trên một đường thẳng. Cho biết tốc độ của mỗi học sinh, hỏi tốc độ nhỏ nhất của chú hề là bao nhiêu để không bị bắt nếu bọn họ cứ chạy mãi mãi?\n",
        "\n",
        "**Input**\n",
        "\n",
        "Dòng đầu tiên cho số test cases T. Mỗi test case, đứng đầu tiên là số N là số học sinh, dãy sau chứa N giá trị của vận tốc mỗi học sinh.\n",
        "\n",
        "**Output**\n",
        "\n",
        "Xuất ra T dòng, mỗi dòng được định dạng bởi \"Case c: s\". c là số thứ tự của test case, s là giá trị vận tốc nhỏ nhất mà chú hề đạt được để không bị bắt trong trường hợp đó.\n",
        "**Sample Input**\n",
        "\n",
        "2\n",
        "\n",
        "5 9 3 5 2 6\n",
        "\n",
        "1 2\n",
        "\n",
        "**Sample Output**\n",
        "\n",
        "Case 1: 9\n",
        "\n",
        "Case 2: 2"
      ]
    },
    {
      "cell_type": "markdown",
      "metadata": {
        "id": "2oFA2x7XuvXn"
      },
      "source": [
        "Lời giải, bài toán đơn giản là tìm giá trị lớn nhất trong mảng.\n",
        "\n",
        "**Code**"
      ]
    },
    {
      "cell_type": "code",
      "metadata": {
        "id": "80x4q0-qvDEz"
      },
      "source": [
        "#include <bits/stdc++.h>\n",
        "using namespace std ;\n",
        "int main() {\n",
        "\tint t, n, Case = 0;\n",
        "\tcin >> t;\n",
        "\twhile(t--) {\n",
        "\t\tscanf(\"%d\", &n);\n",
        "\t\tint max = 0, c;\n",
        "\t\twhile(n--) {\n",
        "\t\t\tcin >> c;\n",
        "\t\t\tif(max < c)\n",
        "\t\t\t\tmax = c;\n",
        "\t\t}\n",
        "\t\tcout << \"Case\" << \" \" << ++Case << \": \" << max << endl ;\n",
        "\t}\n",
        "    return 0;\n",
        "}"
      ],
      "execution_count": null,
      "outputs": []
    }
  ]
}